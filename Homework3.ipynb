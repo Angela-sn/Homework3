{
  "metadata": {
    "language_info": {
      "codemirror_mode": {
        "name": "python",
        "version": 3
      },
      "file_extension": ".py",
      "mimetype": "text/x-python",
      "name": "python",
      "nbconvert_exporter": "python",
      "pygments_lexer": "ipython3",
      "version": "3.8"
    },
    "kernelspec": {
      "name": "python",
      "display_name": "Python (Pyodide)",
      "language": "python"
    }
  },
  "nbformat_minor": 4,
  "nbformat": 4,
  "cells": [
    {
      "cell_type": "code",
      "source": "import numpy as np\nimport pandas as pd\nimport matplotlib.pyplot as plt\nimport warnings\n\n",
      "metadata": {
        "trusted": true
      },
      "execution_count": 17,
      "outputs": []
    },
    {
      "cell_type": "code",
      "source": "import numpy as np\nfrom math import factorial",
      "metadata": {
        "trusted": true
      },
      "execution_count": 23,
      "outputs": []
    },
    {
      "cell_type": "markdown",
      "source": "##1.Даны значения зарплат из выборки выпускников: 100, 80, 75, 77, 89, 33, 45, 25, 65, 17, 30, 24, 57, 55, 70, 75, 65, 84, 90, 150. \nПосчитать (желательно без использования статистических методов наподобие std, var, mean) среднее арифметическое, среднее квадратичное отклонение, смещенную и несмещенную оценки дисперсий для данной выборки.Даны значения зарплат из выборки выпускников:",
      "metadata": {}
    },
    {
      "cell_type": "code",
      "source": "salary = [100, 80, 75, 77, 89, 33, 45, 25, 65, 17, 30, 230, 24, 57, 55, 70, 75, 65, 84, 90, 150]",
      "metadata": {
        "trusted": true
      },
      "execution_count": 2,
      "outputs": []
    },
    {
      "cell_type": "code",
      "source": "AA=0\nfor item in salary:\n    AA = AA + item\nMO = AA/len(salary)\nprint(\"Математическое ожидание:\", MO)",
      "metadata": {
        "trusted": true
      },
      "execution_count": 3,
      "outputs": [
        {
          "name": "stdout",
          "text": "Математическое ожидание: 73.14285714285714\n",
          "output_type": "stream"
        }
      ]
    },
    {
      "cell_type": "markdown",
      "source": "Найдём среднее квадратичное отклонение",
      "metadata": {}
    },
    {
      "cell_type": "code",
      "source": "AA = 0\nfor item in salary:\n    AA = AA + ((item - MO)**2)\nQO = (AA/len(salary))**0.5\nprint(\"Квадратичное отклонение:\", QO)",
      "metadata": {
        "trusted": true
      },
      "execution_count": 4,
      "outputs": [
        {
          "name": "stdout",
          "text": "Квадратичное отклонение: 46.20686994302874\n",
          "output_type": "stream"
        }
      ]
    },
    {
      "cell_type": "markdown",
      "source": "Найдём смещённую и несмещённую оценки дисперсии",
      "metadata": {}
    },
    {
      "cell_type": "code",
      "source": "AA = 0\nfor item in salary:\n    AA = AA + ((item - MO)**2)\nD_biased = AA/len(salary)\nD_unbiased = AA/(len(salary)-1)\nprint(\"Смещенная дисперсия:\", D_biased)\nprint(\"Несмещенная дисперсия:\", D_unbiased)",
      "metadata": {
        "trusted": true
      },
      "execution_count": 5,
      "outputs": [
        {
          "name": "stdout",
          "text": "Смещенная дисперсия: 2135.074829931973\nНесмещенная дисперсия: 2241.8285714285716\n",
          "output_type": "stream"
        }
      ]
    },
    {
      "cell_type": "markdown",
      "source": "##2.В первом ящике находится 8 мячей, из которых 5 - белые. Во втором ящике - 12 мячей, из которых 5 белых. Из первого ящика вытаскивают случайным образом два мяча, из второго - 4. Какова вероятность того, что 3 мяча белые?\n\nПусть A-искомое событие \"из двух корзин вытащили 3 белых\" мяча. Тогда это событие может произойти следующими способами:\nа) B - из первой корзины не вытащили ни одного белого мяча, из второй вытащили 3 белых мяча;\nб) C - из первой корзины вытащили 1 белый мяч, из второй вытащили 2 белых мяча;\nв) D - из первой корзины вытащили 2 белых мяча, из второй вытащили 1 белый мяч.\nВероятность события A будет определяться как сумма вероятностей этих событий.\n\nОпределим вероятность события B",
      "metadata": {}
    },
    {
      "cell_type": "code",
      "source": "def combinations(n,k):\n    return factorial(n)/(factorial(k)*factorial(n-k))",
      "metadata": {
        "trusted": true
      },
      "execution_count": 11,
      "outputs": []
    },
    {
      "cell_type": "code",
      "source": "P1=(combinations(3,2)/combinations(8,2))*(combinations(5,3)*combinations(7,1)/combinations(12,4))\nprint(f'Вероятность события \"из первой корзины не вытащили ни одного белого мяча'\n      f', из второй вытащили 3 белых мяча\"\\nP(B) = {P1: .4f}'\n     )",
      "metadata": {
        "trusted": true
      },
      "execution_count": 26,
      "outputs": [
        {
          "name": "stdout",
          "text": "Вероятность события \"из первой корзины не вытащили ни одного белого мяча, из второй вытащили 3 белых мяча\"\nP(B) =  0.0152\n",
          "output_type": "stream"
        }
      ]
    },
    {
      "cell_type": "markdown",
      "source": "Определим вероятность события C ",
      "metadata": {}
    },
    {
      "cell_type": "code",
      "source": "P2=(combinations(5,1)*combinations(3,1)*combinations(5,2)*combinations(7,2))/(combinations(8,2)*combinations(12,4))\nprint(f'Вероятность события \"из первой корзины вытащили 1 белый мяч'\n      f', из второй вытащили 2 белых мяча\"\\nP(C) = {P2: .4f}'\n     )",
      "metadata": {
        "trusted": true
      },
      "execution_count": 27,
      "outputs": [
        {
          "name": "stdout",
          "text": "Вероятность события \"из первой корзины вытащили 1 белый мяч, из второй вытащили 2 белых мяча\"\nP(C) =  0.2273\n",
          "output_type": "stream"
        }
      ]
    },
    {
      "cell_type": "markdown",
      "source": "Определим вероятность события D",
      "metadata": {}
    },
    {
      "cell_type": "code",
      "source": "P3=(combinations(5,2)*combinations(5,1)*combinations(7,3))/(combinations(8,2)*combinations(12,4))\nprint(f'Вероятность события \"из первой корзины вытащили 2 белых мяча'\n      f', из второй вытащили 1 белый мяч\"\\nP(D) = {P3: .4f}'\n     )\n",
      "metadata": {
        "trusted": true
      },
      "execution_count": 28,
      "outputs": [
        {
          "name": "stdout",
          "text": "Вероятность события \"из первой корзины вытащили 2 белых мяча, из второй вытащили 1 белый мяч\"\nP(D) =  0.1263\n",
          "output_type": "stream"
        }
      ]
    },
    {
      "cell_type": "markdown",
      "source": "Вычислим событие А",
      "metadata": {}
    },
    {
      "cell_type": "code",
      "source": "print(f'Вероятность того, что из вытащенных мячей 3 белые Р(А) = {P1+P2+P3: .4f}')",
      "metadata": {
        "trusted": true
      },
      "execution_count": 29,
      "outputs": [
        {
          "name": "stdout",
          "text": "Вероятность того, что из вытащенных мячей 3 белые Р(А) =  0.3687\n",
          "output_type": "stream"
        }
      ]
    },
    {
      "cell_type": "markdown",
      "source": "Ответ: вероятность того, что 3 мяча белые = 36,87%",
      "metadata": {}
    },
    {
      "cell_type": "markdown",
      "source": "##3.На соревновании по биатлону один из трех спортсменов стреляет и попадает в мишень. Вероятность попадания для первого спортсмена равна 0.9, для второго — 0.8, для третьего — 0.6. Найти вероятность того, что выстрел произведен: a). первым спортсменом б). вторым спортсменом в). третьим спортсменом.",
      "metadata": {}
    },
    {
      "cell_type": "markdown",
      "source": "Рассмотрим следующие события:\nA-в результате выстрела, цель поражена;\nB1 выстрел произведен первым спортсменом;\nB2 выстрел произведен вторым спортсменом;\nB3 выстрел произведен третьим спортсменом.\nВероятности того, что выстрел произведен определенным спортсменом равны, т.к. выстрел 1, и произвести его могут только 3 этих спортсмена, т.е. события B1,B2,B3 составляют полную группу событий.",
      "metadata": {}
    },
    {
      "cell_type": "code",
      "source": "PB=1/3\nPA=PB*0.9+PB*0.8+PB*0.6\nprint(f'Полная вероятность наступления события А Р(А) = {PA: .4f}')",
      "metadata": {
        "trusted": true
      },
      "execution_count": 30,
      "outputs": [
        {
          "name": "stdout",
          "text": "Полная вероятность наступления события А Р(А) =  0.7667\n",
          "output_type": "stream"
        }
      ]
    },
    {
      "cell_type": "markdown",
      "source": "исходя из того, что событие А уже произошло, с помощью формулы Байеса найдём вероятность выстрелов спортсменов",
      "metadata": {}
    },
    {
      "cell_type": "code",
      "source": "PAB1=PB*0.9/PA\nPAB2=PB*0.8/PA\nPAB3=PB*0.6/PA\nprint(f'Вероятность того, что выстрел произвёл первый спортсмен: {PAB1: .4f};\\n'\n      f'Вероятность того, что выстрел произвёл второй спортсмен: {PAB2: .4f};\\n'\n      f'Вероятность того, что выстрел произвёл третий спортсмен: {PAB3: .4f}.'\n     )",
      "metadata": {
        "trusted": true
      },
      "execution_count": 31,
      "outputs": [
        {
          "name": "stdout",
          "text": "Вероятность того, что выстрел произвёл первый спортсмен:  0.3913;\nВероятность того, что выстрел произвёл второй спортсмен:  0.3478;\nВероятность того, что выстрел произвёл третий спортсмен:  0.2609.\n",
          "output_type": "stream"
        }
      ]
    },
    {
      "cell_type": "markdown",
      "source": "Ответ: вероятность того, что выстрел произведен: a)первым спортсменом = 39,13% б) вторым спортсменом = 34,78% в) третьим спортсменом = 26,09%.",
      "metadata": {}
    },
    {
      "cell_type": "markdown",
      "source": "##4.В университет на факультеты A и B поступило равное количество студентов, а на факультет C студентов поступило столько же, сколько на A и B вместе. Вероятность того, что студент факультета A сдаст первую сессию, равна 0.8. Для студента факультета B эта вероятность равна 0.7, а для студента факультета C - 0.9. Студент сдал первую сессию. Какова вероятность, что он учится: a). на факультете A б). на факультете B в). на факультете C?",
      "metadata": {}
    },
    {
      "cell_type": "markdown",
      "source": "Пусть X - количество студентов на факультете A, тогда на факультете B учится X студентов, а на факультете C 2X студентов.\nВведем события SA,SB,SC, что сессию сдаёт студент факультетов A,B,C соответственно, и событие D-сессия сдана.",
      "metadata": {}
    },
    {
      "cell_type": "code",
      "source": "PD=0.25*0.8+0.25*0.7+0.5*0.9\nprint(f'Полная вероятность наступления события D, P(D) = {PD}.')",
      "metadata": {
        "trusted": true
      },
      "execution_count": 32,
      "outputs": [
        {
          "name": "stdout",
          "text": "Полная вероятность наступления события D, P(D) = 0.825.\n",
          "output_type": "stream"
        }
      ]
    },
    {
      "cell_type": "markdown",
      "source": "По формуле Байеса вычислим вероятность того, на каком факультете учится студент, успешно сдавший сессию.",
      "metadata": {}
    },
    {
      "cell_type": "code",
      "source": "PDSA=0.25*0.8/PD\nPDSB=0.25*0.7/PD\nPDSC=0.5*0.9/PD\nprint(f'Вероятность того, что студент учится на факультете А: {PDSA: .4f};\\n'\n      f'Вероятность того, что студент учится на факультете B: {PDSB: .4f};\\n'\n      f'Вероятность того, что студент учится на факультете C: {PDSC: .4f}.'\n      )",
      "metadata": {
        "trusted": true
      },
      "execution_count": 33,
      "outputs": [
        {
          "name": "stdout",
          "text": "Вероятность того, что студент учится на факультете А:  0.2424;\nВероятность того, что студент учится на факультете B:  0.2121;\nВероятность того, что студент учится на факультете C:  0.5455.\n",
          "output_type": "stream"
        }
      ]
    },
    {
      "cell_type": "markdown",
      "source": "Ответ: вероятность, что студент учится: a) на факультете A = 24,24% б) на факультете B = 21,21% в) на факультете C =54,55%",
      "metadata": {}
    },
    {
      "cell_type": "markdown",
      "source": "##5.Устройство состоит из трех деталей. Для первой детали вероятность выйти из строя в первый месяц равна 0.1, для второй - 0.2, для третьей - 0.25. Какова вероятность того, что в первый месяц выйдут из строя: а). все детали б). только две детали в). хотя бы одна деталь г). от одной до двух деталей?\n",
      "metadata": {}
    },
    {
      "cell_type": "code",
      "source": "P3=0.1*0.2*0.25\nprint(f'Вероятность того, что из строя выйдут все детали Р(3) = {P3: .4f}')",
      "metadata": {
        "trusted": true
      },
      "execution_count": 34,
      "outputs": [
        {
          "name": "stdout",
          "text": "Вероятность того, что из строя выйдут все детали Р(3) =  0.0050\n",
          "output_type": "stream"
        }
      ]
    },
    {
      "cell_type": "code",
      "source": "P2=0.1*0.2*0.75+0.1*0.25*0.8+0.2*0.25*0.9\nprint(f'Вероятность того, что из строя выйдут только 2 детали Р(2) = {P2: .4f}')",
      "metadata": {
        "trusted": true
      },
      "execution_count": 35,
      "outputs": [
        {
          "name": "stdout",
          "text": "Вероятность того, что из строя выйдут только 2 детали Р(2) =  0.0800\n",
          "output_type": "stream"
        }
      ]
    },
    {
      "cell_type": "code",
      "source": "P0=0.9*0.8*0.75\nprint(f'Вероятность того, что из строя не выйдет ни одной детали Р(0) = {P0: .4f}')",
      "metadata": {
        "trusted": true
      },
      "execution_count": 36,
      "outputs": [
        {
          "name": "stdout",
          "text": "Вероятность того, что из строя не выйдет ни одной детали Р(0) =  0.5400\n",
          "output_type": "stream"
        }
      ]
    },
    {
      "cell_type": "code",
      "source": "P_0=1-P0\nprint(f'Вероятность того, что выйдет из строя хотя бы одна деталь Р(>=1) = {P_0: .4f}')",
      "metadata": {
        "trusted": true
      },
      "execution_count": 37,
      "outputs": [
        {
          "name": "stdout",
          "text": "Вероятность того, что выйдет из строя хотя бы одна деталь Р(>=1) =  0.4600\n",
          "output_type": "stream"
        }
      ]
    },
    {
      "cell_type": "code",
      "source": "P1=0.1*0.8*0.75+0.2*0.9*0.75+0.25*0.9*0.8\nprint(f'Вероятность того, что выйдет из строя одна деталь Р(1) = {P1: .4f}')",
      "metadata": {
        "trusted": true
      },
      "execution_count": 38,
      "outputs": [
        {
          "name": "stdout",
          "text": "Вероятность того, что выйдет из строя одна деталь Р(1) =  0.3750\n",
          "output_type": "stream"
        }
      ]
    },
    {
      "cell_type": "code",
      "source": "P=0.3750 + 0.08\nprint(f'Вероятность того, что из строя выйдут от одной до двух деталей Р = {P: .4f}')",
      "metadata": {
        "trusted": true
      },
      "execution_count": 39,
      "outputs": [
        {
          "name": "stdout",
          "text": "Вероятность того, что из строя выйдут от одной до двух деталей Р =  0.4550\n",
          "output_type": "stream"
        }
      ]
    },
    {
      "cell_type": "markdown",
      "source": "Ответ: вероятность того, что в первый месяц выйдут из строя: а)все детали = 0,5% б)только две детали = 8% в) хотя бы одна деталь = 46% г)от одной до двух деталей = 45,5%",
      "metadata": {}
    }
  ]
}